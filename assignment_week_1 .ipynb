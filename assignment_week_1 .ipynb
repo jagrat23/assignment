{
 "cells": [
  {
   "cell_type": "markdown",
   "id": "8b5b2c6d",
   "metadata": {},
   "source": [
    "Q1. Create one variable containing following type of data:\n",
    "\n",
    "(i) string =>  s =\"jagrat\"\n",
    "\n",
    "(ii) list => l = [1,2,3,\"jagrat\",\"pwskill\",23.55,True,[1,2,3],2+3j]\n",
    "\n",
    "(iii) float => f = 23.55\n",
    "\n",
    "(iv) tuple => t =(1,2,3,\"jagrat\",\"pwskill\",23.55,True,[1,2,3],2+3j)"
   ]
  },
  {
   "cell_type": "markdown",
   "id": "d2f2815b",
   "metadata": {},
   "source": [
    "Q2. Given are some following variables containing data:\n",
    "\n",
    "(i) var1 = ‘ ‘   => string data type\n",
    "\n",
    "(ii) var2 = ‘[ DS , ML , Python]’   => string data type\n",
    "\n",
    "(iii) var3 = [ ‘DS’ , ’ML’ , ‘Python’ ]   => list data type\n",
    "\n",
    "(iv) var4 = 1.   => float data type\n",
    "\n",
    "What will be the data type of the above given variable."
   ]
  },
  {
   "cell_type": "markdown",
   "id": "72ff5464",
   "metadata": {},
   "source": [
    "Q3. Explain the use of the following operators using an example:\n",
    "\n",
    "(i) /   =>  division operator \n",
    "            e.g. - (5/2) == 2.5\n",
    "            \n",
    "(ii) %   =>  modulus operator\n",
    "             e.g. - (5/2) == 1\n",
    "\n",
    "(iii) //   =>  floor division operator\n",
    "               e.g. - (5//2) == 2\n",
    "\n",
    "(iv) **   =>  Exponentiation operator\n",
    "              e.g. - (5**2) == 25"
   ]
  },
  {
   "cell_type": "markdown",
   "id": "710af280",
   "metadata": {},
   "source": [
    "Q4. Create a list of length 10 of your choice containing multiple types of data. Using for loop print the\n",
    "element and its data type."
   ]
  },
  {
   "cell_type": "code",
   "execution_count": 1,
   "id": "80d65d14",
   "metadata": {},
   "outputs": [],
   "source": [
    "l = [1,2,3,4,\"jagrat\",\"pwskills\",\"sudh sir\",23.55,2+3j,True]"
   ]
  },
  {
   "cell_type": "code",
   "execution_count": 2,
   "id": "81274869",
   "metadata": {},
   "outputs": [
    {
     "data": {
      "text/plain": [
       "10"
      ]
     },
     "execution_count": 2,
     "metadata": {},
     "output_type": "execute_result"
    }
   ],
   "source": [
    "len(l)"
   ]
  },
  {
   "cell_type": "code",
   "execution_count": 3,
   "id": "2d24a956",
   "metadata": {},
   "outputs": [
    {
     "name": "stdout",
     "output_type": "stream",
     "text": [
      "1\n",
      "2\n",
      "3\n",
      "4\n",
      "jagrat\n",
      "pwskills\n",
      "sudh sir\n",
      "23.55\n",
      "(2+3j)\n",
      "True\n"
     ]
    }
   ],
   "source": [
    "for i in l:\n",
    "    print(i)"
   ]
  },
  {
   "cell_type": "markdown",
   "id": "c22907c3",
   "metadata": {},
   "source": [
    "Q5. Using a while loop, verify if the number A is purely divisible by number B and if so then how many\n",
    "times it can be divisible."
   ]
  },
  {
   "cell_type": "code",
   "execution_count": 11,
   "id": "931a7f77",
   "metadata": {},
   "outputs": [
    {
     "name": "stdout",
     "output_type": "stream",
     "text": [
      "6\n",
      "3\n",
      "2.0\n"
     ]
    }
   ],
   "source": [
    "A = int(input())\n",
    "B = int(input())\n",
    "if A%B==0:\n",
    "    print(A/B)"
   ]
  },
  {
   "cell_type": "markdown",
   "id": "45554280",
   "metadata": {},
   "source": [
    "Create a list containing 25 int type data. Using for loop and if-else condition print if the element is\n",
    "divisible by 3 or not."
   ]
  },
  {
   "cell_type": "code",
   "execution_count": 4,
   "id": "3e8ee7ca",
   "metadata": {},
   "outputs": [],
   "source": [
    "u = list(range(25))"
   ]
  },
  {
   "cell_type": "code",
   "execution_count": 5,
   "id": "98cf1bc6",
   "metadata": {},
   "outputs": [
    {
     "data": {
      "text/plain": [
       "[0,\n",
       " 1,\n",
       " 2,\n",
       " 3,\n",
       " 4,\n",
       " 5,\n",
       " 6,\n",
       " 7,\n",
       " 8,\n",
       " 9,\n",
       " 10,\n",
       " 11,\n",
       " 12,\n",
       " 13,\n",
       " 14,\n",
       " 15,\n",
       " 16,\n",
       " 17,\n",
       " 18,\n",
       " 19,\n",
       " 20,\n",
       " 21,\n",
       " 22,\n",
       " 23,\n",
       " 24]"
      ]
     },
     "execution_count": 5,
     "metadata": {},
     "output_type": "execute_result"
    }
   ],
   "source": [
    "u"
   ]
  },
  {
   "cell_type": "code",
   "execution_count": 6,
   "id": "f21730f6",
   "metadata": {},
   "outputs": [
    {
     "data": {
      "text/plain": [
       "25"
      ]
     },
     "execution_count": 6,
     "metadata": {},
     "output_type": "execute_result"
    }
   ],
   "source": [
    "len(u)"
   ]
  },
  {
   "cell_type": "code",
   "execution_count": 8,
   "id": "df499ec7",
   "metadata": {},
   "outputs": [
    {
     "name": "stdout",
     "output_type": "stream",
     "text": [
      "0\n",
      "3\n",
      "6\n",
      "9\n",
      "12\n",
      "15\n",
      "18\n",
      "21\n",
      "24\n"
     ]
    }
   ],
   "source": [
    "for i in u:\n",
    "    if i%3==0:\n",
    "        print(i)"
   ]
  },
  {
   "cell_type": "markdown",
   "id": "34bee2ae",
   "metadata": {},
   "source": [
    "Q7. What do you understand about mutable and immutable data types? Give examples for both showing\n",
    "this property.\n",
    "\n",
    "Ans - mutable data type - are the data type in which we can access same index and can do change in it. e.g. - list.\n",
    "\n",
    "immutable data type - are the data type in which we can't access same index and can do change in it. e.g. - string , set , tuples."
   ]
  },
  {
   "cell_type": "code",
   "execution_count": 12,
   "id": "f0e38fc4",
   "metadata": {},
   "outputs": [
    {
     "data": {
      "text/plain": [
       "[1, 2, 3, 4, 'jagrat', 'pwskills', 'sudh sir', 23.55, (2+3j), True]"
      ]
     },
     "execution_count": 12,
     "metadata": {},
     "output_type": "execute_result"
    }
   ],
   "source": [
    "l"
   ]
  },
  {
   "cell_type": "code",
   "execution_count": 13,
   "id": "6a4b2572",
   "metadata": {},
   "outputs": [],
   "source": [
    "l[3]=54"
   ]
  },
  {
   "cell_type": "code",
   "execution_count": 14,
   "id": "cc933d32",
   "metadata": {},
   "outputs": [
    {
     "data": {
      "text/plain": [
       "[1, 2, 3, 54, 'jagrat', 'pwskills', 'sudh sir', 23.55, (2+3j), True]"
      ]
     },
     "execution_count": 14,
     "metadata": {},
     "output_type": "execute_result"
    }
   ],
   "source": [
    "l"
   ]
  },
  {
   "cell_type": "code",
   "execution_count": 16,
   "id": "e85e749e",
   "metadata": {},
   "outputs": [],
   "source": [
    "s = \"jagrat\""
   ]
  },
  {
   "cell_type": "code",
   "execution_count": 17,
   "id": "1c31073d",
   "metadata": {},
   "outputs": [
    {
     "data": {
      "text/plain": [
       "'g'"
      ]
     },
     "execution_count": 17,
     "metadata": {},
     "output_type": "execute_result"
    }
   ],
   "source": [
    "s[2]"
   ]
  },
  {
   "cell_type": "code",
   "execution_count": 18,
   "id": "3c1cbb18",
   "metadata": {},
   "outputs": [
    {
     "ename": "NameError",
     "evalue": "name 'f' is not defined",
     "output_type": "error",
     "traceback": [
      "\u001b[0;31m---------------------------------------------------------------------------\u001b[0m",
      "\u001b[0;31mNameError\u001b[0m                                 Traceback (most recent call last)",
      "Cell \u001b[0;32mIn[18], line 1\u001b[0m\n\u001b[0;32m----> 1\u001b[0m s[\u001b[38;5;241m2\u001b[39m]\u001b[38;5;241m=\u001b[39m\u001b[43mf\u001b[49m\n",
      "\u001b[0;31mNameError\u001b[0m: name 'f' is not defined"
     ]
    }
   ],
   "source": [
    "s[2]=f"
   ]
  },
  {
   "cell_type": "code",
   "execution_count": null,
   "id": "e94f0509",
   "metadata": {},
   "outputs": [],
   "source": []
  }
 ],
 "metadata": {
  "kernelspec": {
   "display_name": "Python 3 (ipykernel)",
   "language": "python",
   "name": "python3"
  },
  "language_info": {
   "codemirror_mode": {
    "name": "ipython",
    "version": 3
   },
   "file_extension": ".py",
   "mimetype": "text/x-python",
   "name": "python",
   "nbconvert_exporter": "python",
   "pygments_lexer": "ipython3",
   "version": "3.10.9"
  }
 },
 "nbformat": 4,
 "nbformat_minor": 5
}
